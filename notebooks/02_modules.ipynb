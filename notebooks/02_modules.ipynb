{
 "cells": [
  {
   "attachments": {},
   "cell_type": "markdown",
   "metadata": {},
   "source": [
    "# Parameters and Modules"
   ]
  },
  {
   "attachments": {},
   "cell_type": "markdown",
   "metadata": {},
   "source": [
    "## Parameter\n",
    "\n",
    "Machine learning involves the optimization of trainable parameters. The `Parameter` is a tensor subclass. Its special proterty is that it can receive gradients."
   ]
  },
  {
   "cell_type": "code",
   "execution_count": 18,
   "metadata": {},
   "outputs": [
    {
     "name": "stdout",
     "output_type": "stream",
     "text": [
      "Parameter containing:\n",
      "tensor([], requires_grad=True)\n"
     ]
    }
   ],
   "source": [
    "import torch\n",
    "\n",
    "# initializing an empty parameter tensor\n",
    "param = torch.nn.Parameter()\n",
    "print(param)"
   ]
  },
  {
   "attachments": {},
   "cell_type": "markdown",
   "metadata": {},
   "source": [
    "## Module\n",
    "\n",
    "The `Module` class is a container and the base class for neural networks in PyTorch. You can create any model you want based on this with keeping in mind 3 things:\n",
    "- it needs an `__init__()` method\n",
    "- remember to initialize the parent class in the initialization\n",
    "- it needs a `forward()` method"
   ]
  },
  {
   "cell_type": "code",
   "execution_count": 21,
   "metadata": {},
   "outputs": [
    {
     "name": "stdout",
     "output_type": "stream",
     "text": [
      "tensor([[ 0.1575, -0.0298],\n",
      "        [ 0.1525, -0.6750]], grad_fn=<MulBackward0>)\n"
     ]
    }
   ],
   "source": [
    "# let's create a dummy child of the module\n",
    "\n",
    "import torch.nn as nn\n",
    "class Child(nn.Module):\n",
    "    def __init__(self):\n",
    "        super().__init__()\n",
    "        self.param = torch.nn.Parameter(torch.randn(2, 2))\n",
    "\n",
    "    def forward(self, x):\n",
    "        return self.param * x\n",
    "\n",
    "child = Child()\n",
    "\n",
    "input = torch.randn(2)\n",
    "\n",
    "output = child(input)\n",
    "\n",
    "print(output)"
   ]
  }
 ],
 "metadata": {
  "kernelspec": {
   "display_name": "Python 3",
   "language": "python",
   "name": "python3"
  },
  "language_info": {
   "codemirror_mode": {
    "name": "ipython",
    "version": 3
   },
   "file_extension": ".py",
   "mimetype": "text/x-python",
   "name": "python",
   "nbconvert_exporter": "python",
   "pygments_lexer": "ipython3",
   "version": "3.10.8"
  },
  "orig_nbformat": 4
 },
 "nbformat": 4,
 "nbformat_minor": 2
}
