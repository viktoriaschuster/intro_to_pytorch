{
 "cells": [
  {
   "attachments": {},
   "cell_type": "markdown",
   "metadata": {},
   "source": [
    "# Parameters and Modules"
   ]
  },
  {
   "attachments": {},
   "cell_type": "markdown",
   "metadata": {},
   "source": [
    "## Parameter\n",
    "\n",
    "Machine learning involves the optimization of trainable parameters. The `Parameter` is a tensor subclass. Its special proterty is that it can receive gradients."
   ]
  },
  {
   "cell_type": "code",
   "execution_count": 2,
   "metadata": {},
   "outputs": [
    {
     "name": "stdout",
     "output_type": "stream",
     "text": [
      "Parameter containing:\n",
      "tensor([], requires_grad=True)\n"
     ]
    }
   ],
   "source": [
    "import torch\n",
    "\n",
    "# initializing an empty parameter tensor\n",
    "param = torch.nn.Parameter()\n",
    "print(param)"
   ]
  },
  {
   "attachments": {},
   "cell_type": "markdown",
   "metadata": {},
   "source": [
    "## Module\n",
    "\n",
    "The `Module` class is a container and the base class for neural networks in PyTorch. You can create any model you want based on this with keeping in mind 3 things:\n",
    "- it needs an `__init__()` method\n",
    "- remember to initialize the parent class in the initialization (basic class stuff)\n",
    "- it needs a `forward()` method"
   ]
  },
  {
   "cell_type": "code",
   "execution_count": 4,
   "metadata": {},
   "outputs": [
    {
     "name": "stdout",
     "output_type": "stream",
     "text": [
      "tensor([[ 1.5882, -0.3800],\n",
      "        [ 0.5570,  0.2502]], grad_fn=<AddBackward0>)\n"
     ]
    }
   ],
   "source": [
    "# let's create a dummy child of the module\n",
    "\n",
    "import torch.nn as nn\n",
    "class Child(nn.Module):\n",
    "    def __init__(self):\n",
    "        super().__init__()\n",
    "        self.weights = torch.nn.Parameter(torch.randn(2, 2))\n",
    "        self.bias = torch.nn.Parameter(torch.randn(2))\n",
    "\n",
    "    def forward(self, x):\n",
    "        return self.weights * x + self.bias\n",
    "\n",
    "child = Child()\n",
    "\n",
    "input_vals = torch.randn(2)\n",
    "\n",
    "output_vals = child(input_vals)\n",
    "\n",
    "print(output_vals)"
   ]
  }
 ],
 "metadata": {
  "kernelspec": {
   "display_name": "Python 3",
   "language": "python",
   "name": "python3"
  },
  "language_info": {
   "codemirror_mode": {
    "name": "ipython",
    "version": 3
   },
   "file_extension": ".py",
   "mimetype": "text/x-python",
   "name": "python",
   "nbconvert_exporter": "python",
   "pygments_lexer": "ipython3",
   "version": "3.10.8"
  },
  "orig_nbformat": 4,
  "vscode": {
   "interpreter": {
    "hash": "aee8b7b246df8f9039afb4144a1f6fd8d2ca17a180786b69acc140d282b71a49"
   }
  }
 },
 "nbformat": 4,
 "nbformat_minor": 2
}
